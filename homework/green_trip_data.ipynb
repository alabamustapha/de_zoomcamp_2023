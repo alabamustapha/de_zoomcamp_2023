{
 "cells": [
  {
   "cell_type": "code",
   "execution_count": 86,
   "id": "824fdc90",
   "metadata": {},
   "outputs": [],
   "source": [
    "import pandas as pd\n",
    "from time import time"
   ]
  },
  {
   "cell_type": "code",
   "execution_count": 87,
   "id": "ea716000",
   "metadata": {},
   "outputs": [
    {
     "name": "stdout",
     "output_type": "stream",
     "text": [
      "docker-compose.yaml\t       taxi+_zone_lookup.csv\r\n",
      "green_tripdata_2019-01.csv.gz  Untitled.ipynb\r\n"
     ]
    }
   ],
   "source": [
    "!ls"
   ]
  },
  {
   "cell_type": "code",
   "execution_count": 88,
   "id": "a43bc2eb",
   "metadata": {},
   "outputs": [
    {
     "data": {
      "text/html": [
       "<div>\n",
       "<style scoped>\n",
       "    .dataframe tbody tr th:only-of-type {\n",
       "        vertical-align: middle;\n",
       "    }\n",
       "\n",
       "    .dataframe tbody tr th {\n",
       "        vertical-align: top;\n",
       "    }\n",
       "\n",
       "    .dataframe thead th {\n",
       "        text-align: right;\n",
       "    }\n",
       "</style>\n",
       "<table border=\"1\" class=\"dataframe\">\n",
       "  <thead>\n",
       "    <tr style=\"text-align: right;\">\n",
       "      <th></th>\n",
       "      <th>VendorID</th>\n",
       "      <th>lpep_pickup_datetime</th>\n",
       "      <th>lpep_dropoff_datetime</th>\n",
       "      <th>store_and_fwd_flag</th>\n",
       "      <th>RatecodeID</th>\n",
       "      <th>PULocationID</th>\n",
       "      <th>DOLocationID</th>\n",
       "      <th>passenger_count</th>\n",
       "      <th>trip_distance</th>\n",
       "      <th>fare_amount</th>\n",
       "      <th>extra</th>\n",
       "      <th>mta_tax</th>\n",
       "      <th>tip_amount</th>\n",
       "      <th>tolls_amount</th>\n",
       "      <th>ehail_fee</th>\n",
       "      <th>improvement_surcharge</th>\n",
       "      <th>total_amount</th>\n",
       "      <th>payment_type</th>\n",
       "      <th>trip_type</th>\n",
       "      <th>congestion_surcharge</th>\n",
       "    </tr>\n",
       "  </thead>\n",
       "  <tbody>\n",
       "    <tr>\n",
       "      <th>0</th>\n",
       "      <td>2</td>\n",
       "      <td>2018-12-21 15:17:29</td>\n",
       "      <td>2018-12-21 15:18:57</td>\n",
       "      <td>N</td>\n",
       "      <td>1</td>\n",
       "      <td>264</td>\n",
       "      <td>264</td>\n",
       "      <td>5</td>\n",
       "      <td>0.00</td>\n",
       "      <td>3.0</td>\n",
       "      <td>0.5</td>\n",
       "      <td>0.5</td>\n",
       "      <td>0.00</td>\n",
       "      <td>0.0</td>\n",
       "      <td>NaN</td>\n",
       "      <td>0.3</td>\n",
       "      <td>4.30</td>\n",
       "      <td>2</td>\n",
       "      <td>1</td>\n",
       "      <td>NaN</td>\n",
       "    </tr>\n",
       "    <tr>\n",
       "      <th>1</th>\n",
       "      <td>2</td>\n",
       "      <td>2019-01-01 00:10:16</td>\n",
       "      <td>2019-01-01 00:16:32</td>\n",
       "      <td>N</td>\n",
       "      <td>1</td>\n",
       "      <td>97</td>\n",
       "      <td>49</td>\n",
       "      <td>2</td>\n",
       "      <td>0.86</td>\n",
       "      <td>6.0</td>\n",
       "      <td>0.5</td>\n",
       "      <td>0.5</td>\n",
       "      <td>0.00</td>\n",
       "      <td>0.0</td>\n",
       "      <td>NaN</td>\n",
       "      <td>0.3</td>\n",
       "      <td>7.30</td>\n",
       "      <td>2</td>\n",
       "      <td>1</td>\n",
       "      <td>NaN</td>\n",
       "    </tr>\n",
       "    <tr>\n",
       "      <th>2</th>\n",
       "      <td>2</td>\n",
       "      <td>2019-01-01 00:27:11</td>\n",
       "      <td>2019-01-01 00:31:38</td>\n",
       "      <td>N</td>\n",
       "      <td>1</td>\n",
       "      <td>49</td>\n",
       "      <td>189</td>\n",
       "      <td>2</td>\n",
       "      <td>0.66</td>\n",
       "      <td>4.5</td>\n",
       "      <td>0.5</td>\n",
       "      <td>0.5</td>\n",
       "      <td>0.00</td>\n",
       "      <td>0.0</td>\n",
       "      <td>NaN</td>\n",
       "      <td>0.3</td>\n",
       "      <td>5.80</td>\n",
       "      <td>1</td>\n",
       "      <td>1</td>\n",
       "      <td>NaN</td>\n",
       "    </tr>\n",
       "    <tr>\n",
       "      <th>3</th>\n",
       "      <td>2</td>\n",
       "      <td>2019-01-01 00:46:20</td>\n",
       "      <td>2019-01-01 01:04:54</td>\n",
       "      <td>N</td>\n",
       "      <td>1</td>\n",
       "      <td>189</td>\n",
       "      <td>17</td>\n",
       "      <td>2</td>\n",
       "      <td>2.68</td>\n",
       "      <td>13.5</td>\n",
       "      <td>0.5</td>\n",
       "      <td>0.5</td>\n",
       "      <td>2.96</td>\n",
       "      <td>0.0</td>\n",
       "      <td>NaN</td>\n",
       "      <td>0.3</td>\n",
       "      <td>19.71</td>\n",
       "      <td>1</td>\n",
       "      <td>1</td>\n",
       "      <td>NaN</td>\n",
       "    </tr>\n",
       "    <tr>\n",
       "      <th>4</th>\n",
       "      <td>2</td>\n",
       "      <td>2019-01-01 00:19:06</td>\n",
       "      <td>2019-01-01 00:39:43</td>\n",
       "      <td>N</td>\n",
       "      <td>1</td>\n",
       "      <td>82</td>\n",
       "      <td>258</td>\n",
       "      <td>1</td>\n",
       "      <td>4.53</td>\n",
       "      <td>18.0</td>\n",
       "      <td>0.5</td>\n",
       "      <td>0.5</td>\n",
       "      <td>0.00</td>\n",
       "      <td>0.0</td>\n",
       "      <td>NaN</td>\n",
       "      <td>0.3</td>\n",
       "      <td>19.30</td>\n",
       "      <td>2</td>\n",
       "      <td>1</td>\n",
       "      <td>NaN</td>\n",
       "    </tr>\n",
       "  </tbody>\n",
       "</table>\n",
       "</div>"
      ],
      "text/plain": [
       "   VendorID lpep_pickup_datetime lpep_dropoff_datetime store_and_fwd_flag  \\\n",
       "0         2  2018-12-21 15:17:29   2018-12-21 15:18:57                  N   \n",
       "1         2  2019-01-01 00:10:16   2019-01-01 00:16:32                  N   \n",
       "2         2  2019-01-01 00:27:11   2019-01-01 00:31:38                  N   \n",
       "3         2  2019-01-01 00:46:20   2019-01-01 01:04:54                  N   \n",
       "4         2  2019-01-01 00:19:06   2019-01-01 00:39:43                  N   \n",
       "\n",
       "   RatecodeID  PULocationID  DOLocationID  passenger_count  trip_distance  \\\n",
       "0           1           264           264                5           0.00   \n",
       "1           1            97            49                2           0.86   \n",
       "2           1            49           189                2           0.66   \n",
       "3           1           189            17                2           2.68   \n",
       "4           1            82           258                1           4.53   \n",
       "\n",
       "   fare_amount  extra  mta_tax  tip_amount  tolls_amount  ehail_fee  \\\n",
       "0          3.0    0.5      0.5        0.00           0.0        NaN   \n",
       "1          6.0    0.5      0.5        0.00           0.0        NaN   \n",
       "2          4.5    0.5      0.5        0.00           0.0        NaN   \n",
       "3         13.5    0.5      0.5        2.96           0.0        NaN   \n",
       "4         18.0    0.5      0.5        0.00           0.0        NaN   \n",
       "\n",
       "   improvement_surcharge  total_amount  payment_type  trip_type  \\\n",
       "0                    0.3          4.30             2          1   \n",
       "1                    0.3          7.30             2          1   \n",
       "2                    0.3          5.80             1          1   \n",
       "3                    0.3         19.71             1          1   \n",
       "4                    0.3         19.30             2          1   \n",
       "\n",
       "   congestion_surcharge  \n",
       "0                   NaN  \n",
       "1                   NaN  \n",
       "2                   NaN  \n",
       "3                   NaN  \n",
       "4                   NaN  "
      ]
     },
     "execution_count": 88,
     "metadata": {},
     "output_type": "execute_result"
    }
   ],
   "source": [
    "green_trips_df = pd.read_csv(\"green_tripdata_2019-01.csv.gz\", nrows=100)\n",
    "green_trips_df.head()"
   ]
  },
  {
   "cell_type": "code",
   "execution_count": 89,
   "id": "a3741cb5",
   "metadata": {},
   "outputs": [
    {
     "data": {
      "text/plain": [
       "(265, 4)"
      ]
     },
     "execution_count": 89,
     "metadata": {},
     "output_type": "execute_result"
    }
   ],
   "source": [
    "zone_df = pd.read_csv(\"taxi+_zone_lookup.csv\")\n",
    "zone_df.shape"
   ]
  },
  {
   "cell_type": "code",
   "execution_count": 90,
   "id": "66c18f6a",
   "metadata": {},
   "outputs": [],
   "source": [
    "from sqlalchemy import create_engine"
   ]
  },
  {
   "cell_type": "code",
   "execution_count": 91,
   "id": "292fac5e",
   "metadata": {},
   "outputs": [],
   "source": [
    "pg_user=\"root\"\n",
    "pg_pass=\"root\"\n",
    "pg_host=\"localhost\"\n",
    "pg_port=5432\n",
    "pg_db=\"ny_taxi\"\n",
    "engine = create_engine(f\"postgresql://{pg_user}:{pg_pass}@{pg_host}:{pg_port}/{pg_db}\")\n",
    "con = engine.connect()"
   ]
  },
  {
   "cell_type": "code",
   "execution_count": 92,
   "id": "2862a578",
   "metadata": {},
   "outputs": [],
   "source": [
    "df_iter = pd.read_csv(\"green_tripdata_2019-01.csv.gz\", iterator=True, chunksize=10000)\n",
    "df = next(df_iter)"
   ]
  },
  {
   "cell_type": "code",
   "execution_count": 93,
   "id": "6a32acea",
   "metadata": {},
   "outputs": [],
   "source": [
    "df.lpep_pickup_datetime = pd.to_datetime(df.lpep_pickup_datetime)\n",
    "df.lpep_dropoff_datetime = pd.to_datetime(df.lpep_dropoff_datetime)"
   ]
  },
  {
   "cell_type": "code",
   "execution_count": 94,
   "id": "11f8ce25",
   "metadata": {},
   "outputs": [
    {
     "data": {
      "text/plain": [
       "0"
      ]
     },
     "execution_count": 94,
     "metadata": {},
     "output_type": "execute_result"
    }
   ],
   "source": [
    "df.head(0).to_sql(con=con, name=\"green_trip_data\", if_exists=\"replace\")"
   ]
  },
  {
   "cell_type": "code",
   "execution_count": 95,
   "id": "acb60249",
   "metadata": {},
   "outputs": [
    {
     "data": {
      "text/plain": [
       "1000"
      ]
     },
     "execution_count": 95,
     "metadata": {},
     "output_type": "execute_result"
    }
   ],
   "source": [
    "df.to_sql(con=con, name=\"green_trip_data\", if_exists=\"append\")"
   ]
  },
  {
   "cell_type": "code",
   "execution_count": 96,
   "id": "9f466ff9",
   "metadata": {},
   "outputs": [
    {
     "name": "stdout",
     "output_type": "stream",
     "text": [
      "New records added 1.1914427280426025\n",
      "New records added 1.0410387516021729\n",
      "New records added 1.061575174331665\n",
      "New records added 1.0994303226470947\n",
      "New records added 1.122084379196167\n",
      "New records added 1.033918857574463\n",
      "New records added 1.2404751777648926\n",
      "New records added 0.852853536605835\n",
      "New records added 0.7770287990570068\n",
      "New records added 0.7356297969818115\n",
      "New records added 0.7410907745361328\n",
      "New records added 0.9190256595611572\n",
      "New records added 0.7648429870605469\n",
      "New records added 0.8089845180511475\n",
      "New records added 0.8368287086486816\n",
      "New records added 0.6810619831085205\n",
      "New records added 0.8572242259979248\n",
      "New records added 0.7910048961639404\n",
      "New records added 0.7233231067657471\n",
      "New records added 0.7289009094238281\n",
      "New records added 0.739227294921875\n",
      "New records added 0.7390499114990234\n",
      "New records added 0.7119386196136475\n",
      "New records added 0.6995141506195068\n",
      "New records added 0.7564315795898438\n",
      "New records added 0.7400960922241211\n",
      "New records added 0.8266804218292236\n",
      "New records added 0.7558364868164062\n",
      "New records added 0.9930789470672607\n",
      "New records added 0.7187879085540771\n",
      "New records added 0.9680619239807129\n",
      "New records added 0.7897961139678955\n",
      "New records added 0.6950240135192871\n",
      "New records added 0.7008192539215088\n",
      "New records added 0.8307766914367676\n",
      "New records added 0.938194751739502\n",
      "New records added 0.7353544235229492\n",
      "New records added 0.8670563697814941\n",
      "New records added 0.6929888725280762\n",
      "New records added 0.8966257572174072\n",
      "New records added 0.7335209846496582\n",
      "New records added 0.7715184688568115\n",
      "New records added 0.6973259449005127\n",
      "New records added 0.8808755874633789\n",
      "New records added 0.8200366497039795\n",
      "New records added 0.7734313011169434\n",
      "New records added 0.7628316879272461\n",
      "New records added 0.7539088726043701\n",
      "New records added 0.7776675224304199\n",
      "New records added 0.8242654800415039\n",
      "New records added 0.7200925350189209\n",
      "New records added 0.7388362884521484\n",
      "New records added 1.1132135391235352\n",
      "New records added 1.1316897869110107\n",
      "New records added 0.9147162437438965\n",
      "New records added 0.9215128421783447\n",
      "New records added 0.8121039867401123\n",
      "New records added 0.7604329586029053\n",
      "New records added 0.7828161716461182\n",
      "New records added 0.967663049697876\n",
      "New records added 0.8888969421386719\n",
      "New records added 0.9164426326751709\n",
      "New records added 0.140214204788208\n",
      "All record imported or ingested\n"
     ]
    }
   ],
   "source": [
    "try:\n",
    "    while True:\n",
    "        t_start = time()\n",
    "        df = next(df_iter)\n",
    "\n",
    "        df.lpep_pickup_datetime = pd.to_datetime(df.lpep_pickup_datetime)\n",
    "        df.lpep_dropoff_datetime = pd.to_datetime(df.lpep_dropoff_datetime)\n",
    "        df.to_sql(con=con, name=\"green_trip_data\", if_exists=\"append\")\n",
    "\n",
    "        end_time = time()\n",
    "        print(\"New records added {}\".format(end_time-t_start))\n",
    "except StopIteration:\n",
    "    print(\"All record imported or ingested\")"
   ]
  }
 ],
 "metadata": {
  "kernelspec": {
   "display_name": "base",
   "language": "python",
   "name": "python3"
  },
  "language_info": {
   "codemirror_mode": {
    "name": "ipython",
    "version": 3
   },
   "file_extension": ".py",
   "mimetype": "text/x-python",
   "name": "python",
   "nbconvert_exporter": "python",
   "pygments_lexer": "ipython3",
   "version": "3.9.13 (main, Aug 25 2022, 23:26:10) \n[GCC 11.2.0]"
  },
  "vscode": {
   "interpreter": {
    "hash": "bee6bdde34d259bbdf90996b0c233938d823094d5d1b5dfe970b0bc61e724dda"
   }
  }
 },
 "nbformat": 4,
 "nbformat_minor": 5
}
